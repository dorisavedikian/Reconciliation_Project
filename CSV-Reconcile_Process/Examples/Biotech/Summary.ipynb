{
 "cells": [
  {
   "cell_type": "markdown",
   "metadata": {},
   "source": [
    "\n",
    "Original [nalt_label.tsv](https://github.com/woody544/nalt4ma/blob/main/nalt/nalt_labels/nalt_labels.tsv) file has 145,755 rows. Because alt and pref labels that correspond to a given concept / resource has the same URI, the openRefine reconciliation service will not work. So, I used a derivative of Tom Baker's [nalt_label.ipynb](https://github.com/woody544/nalt4ma/blob/main/nalt/nalt_labels.ipynb) jupiter notebook to keep the nalt pref labels and nalt alt labels seperate so that I could try and run the reconciliation on each file seperately.\n",
    "\n",
    "After splitting it into two files...\n",
    "\n",
    "- [nalt_preflabel.tsv](https://github.com/dorisavedikian/Reconciliation_Project/blob/main/CSV-Reconcile_Process/nalt_labels_DATA/nalt_preflabels.tsv) had 76,932 rows and the ---> reconciled to beta prepared.tsv resulted in 739 beta prepared labels reconciled to 739 pref labels in the NALT\n",
    "\n",
    "- [nalt_altlabel_suffix.tsv](https://github.com/dorisavedikian/Reconciliation_Project/blob/main/CSV-Reconcile_Process/nalt_labels_DATA/nalt_altlabels_suffix.tsv) had 68,823 rows ----> I added a suffix to each URI so they would be considered unique and I ran the service and it worked. 5 beta prepared labels were reconciled to 5 alt labels in the NALT\n",
    "\n",
    "The combined list of SME labels that were reconciled to alt and pref labels can be found [here](https://github.com/dorisavedikian/Reconciliation_Project/blob/main/CSV-Reconcile_Process/Examples/AWIC/Reconciled/matched_reconciliation.xlsx). The total number of perfectly matched SME labels to NALT terms is 744.\n",
    "\n",
    "\n"
   ]
  },
  {
   "cell_type": "markdown",
   "metadata": {},
   "source": [
    "The following SME labels are not being reconciled to NALT labels due to minor differences. An excel file of these can be found [here](https://github.com/dorisavedikian/Reconciliation_Project/blob/main/CSV-Reconcile_Process/Examples/AWIC/Reconciled/unmatched_but_100.xlsx).\n",
    "\n",
    "- ames test \n",
    "    (term is in NALT but beta prepared data has it all lowercase - 100% matching score in openRefine)\n",
    "- Breeding and Genetic Improvement \n",
    "    (term is in NALT but beta prepared data has it all lowercase - 100% matching score in openRefine)\n",
    "- New Zealand White Rabbit \n",
    "    (rabbit is lowercase in the NALT but uppercase in the beta prepared data - also, 100% matching score in openRefine)\n",
    "- limulus amebocyte lysate assay \n",
    "    (Limulus is uppercase in the NALT but lowercase in the beta prepared data - also 100% matching score in openRefine)\n",
    "- National Center for the Replacement Refinement and Reduction of Animals in Research \n",
    "    (there is a comma after Replacement for the NALT version - also 100% matching score in openRefine)\n",
    "\n",
    "\n",
    "The labels in the beta prepared list that are not in the NALT can be found [here](https://github.com/dorisavedikian/Reconciliation_Project/blob/main/CSV-Reconcile_Process/Examples/AWIC/Reconciled/SME_Label_Not_In_The_NALT.xlsx). Of the original 908 SME labels, 159 are not already in the NALT.\n"
   ]
  }
 ],
 "metadata": {
  "interpreter": {
   "hash": "aee8b7b246df8f9039afb4144a1f6fd8d2ca17a180786b69acc140d282b71a49"
  },
  "kernelspec": {
   "display_name": "Python 3.10.0 64-bit",
   "language": "python",
   "name": "python3"
  },
  "language_info": {
   "codemirror_mode": {
    "name": "ipython",
    "version": 3
   },
   "file_extension": ".py",
   "mimetype": "text/x-python",
   "name": "python",
   "nbconvert_exporter": "python",
   "pygments_lexer": "ipython3",
   "version": "3.10.0"
  },
  "orig_nbformat": 4
 },
 "nbformat": 4,
 "nbformat_minor": 2
}
